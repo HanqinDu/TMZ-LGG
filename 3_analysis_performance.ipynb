{
 "cells": [
  {
   "cell_type": "markdown",
   "id": "73e50759",
   "metadata": {},
   "source": [
    "## Import"
   ]
  },
  {
   "cell_type": "code",
   "execution_count": 2,
   "id": "a0808d48",
   "metadata": {},
   "outputs": [],
   "source": [
    "from src.PredictionSummary import *\n",
    "import pandas as pd\n",
    "import os"
   ]
  },
  {
   "cell_type": "code",
   "execution_count": 3,
   "id": "07f8afa1",
   "metadata": {},
   "outputs": [],
   "source": [
    "def getPerformance(performance_collection, target_class = [1]):\n",
    "    # flatten all prediction\n",
    "    prediction_list = flattenList(performance_collection)\n",
    "\n",
    "    # binerize prediction list\n",
    "    binarizePredictionList(prediction_list, target_class)\n",
    "\n",
    "    # save prediction\n",
    "    df_performance = pd.DataFrame(columns=['dataset', 'algorithm', 'seed', 'MCC', \"ROC-AUC\", \"PR-AUC\"])\n",
    "\n",
    "    for i, p in enumerate(prediction_list):\n",
    "        df_performance.loc[i] = [p.dataset_, p.model_, p.seed, p.getMCC(), p.getAUC(), p.getPRAUC()]\n",
    "        \n",
    "    return(df_performance)"
   ]
  },
  {
   "cell_type": "markdown",
   "id": "c9a11b0b",
   "metadata": {},
   "source": [
    "## Calculate metric from prediction"
   ]
  },
  {
   "cell_type": "code",
   "execution_count": 18,
   "id": "a1ac7479",
   "metadata": {},
   "outputs": [
    {
     "name": "stdout",
     "output_type": "stream",
     "text": [
      "MCC: 0.44678297657808896\n",
      "PR-AUC: 0.8367085590455784\n",
      "ROC-AUC: 0.7075996292863762\n"
     ]
    }
   ],
   "source": [
    "prediction = loadPrediction(\"data/prediction/allfeatures_XGB-C_miRNA.pickle\")\n",
    "binarizePredictionList(prediction, [1])\n",
    "\n",
    "print(\"MCC: \" + str(prediction[0].getMCC()))\n",
    "print(\"PR-AUC: \" + str(prediction[0].getPRAUC()))\n",
    "print(\"ROC-AUC: \" + str(prediction[0].getAUC()))"
   ]
  }
 ],
 "metadata": {
  "kernelspec": {
   "display_name": "Python 3 (ipykernel)",
   "language": "python",
   "name": "python3"
  },
  "language_info": {
   "codemirror_mode": {
    "name": "ipython",
    "version": 3
   },
   "file_extension": ".py",
   "mimetype": "text/x-python",
   "name": "python",
   "nbconvert_exporter": "python",
   "pygments_lexer": "ipython3",
   "version": "3.9.13"
  }
 },
 "nbformat": 4,
 "nbformat_minor": 5
}
